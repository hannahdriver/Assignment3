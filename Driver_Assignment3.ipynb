{
 "cells": [
  {
   "cell_type": "markdown",
   "id": "c4ffec44",
   "metadata": {},
   "source": [
    "<center><h1>BMIF804</h1>\n",
    "    <h2>Assignment 3</h2>  \n",
    "    <h3>By: Hannah Driver (10090525)</h3>\n",
    "    <h4>https://github.com/hannahdriver/BMIF804_Assignment3</h4></center>"
   ]
  },
  {
   "cell_type": "markdown",
   "id": "b5614faf",
   "metadata": {},
   "source": [
    "<b>This program...</b>"
   ]
  },
  {
   "cell_type": "code",
   "execution_count": null,
   "id": "e1f1f90e",
   "metadata": {},
   "outputs": [],
   "source": [
    "# import libraries\n",
    "import SimpleITK as sitk\n",
    "import numpy as np\n",
    "import matplotlib.pyplot as plt\n",
    "import pandas as pd\n",
    "%config Completer.use_jedi = False"
   ]
  },
  {
   "cell_type": "markdown",
   "id": "228e3c28",
   "metadata": {},
   "source": [
    "<h2>Data Preparation</h2>"
   ]
  },
  {
   "cell_type": "markdown",
   "id": "1931cc5a",
   "metadata": {},
   "source": [
    "<h2>Part 1</h2>"
   ]
  },
  {
   "cell_type": "markdown",
   "id": "9b4f28bd",
   "metadata": {},
   "source": [
    "<h5>Part 1a</h5>"
   ]
  },
  {
   "cell_type": "markdown",
   "id": "2734795b",
   "metadata": {},
   "source": [
    "<h5>Part 1b</h5>"
   ]
  },
  {
   "cell_type": "markdown",
   "id": "71a00474",
   "metadata": {},
   "source": [
    "<h5>Part 1c</h5>"
   ]
  },
  {
   "cell_type": "markdown",
   "id": "80509354",
   "metadata": {},
   "source": [
    "<h5>Part 1d</h5>"
   ]
  },
  {
   "cell_type": "markdown",
   "id": "c019fd66",
   "metadata": {},
   "source": [
    "<h5>Part 1e</h5>"
   ]
  },
  {
   "cell_type": "markdown",
   "id": "1c3f256a",
   "metadata": {},
   "source": [
    "<h2>Part 2</h2>"
   ]
  },
  {
   "cell_type": "markdown",
   "id": "8f42b829",
   "metadata": {},
   "source": [
    "<h5>Part 2a</h5>"
   ]
  },
  {
   "cell_type": "markdown",
   "id": "cef1b929",
   "metadata": {},
   "source": [
    "<h5>Part 2b</h5>"
   ]
  },
  {
   "cell_type": "markdown",
   "id": "6b6945e2",
   "metadata": {},
   "source": [
    "<h2>Part 3</h2>"
   ]
  },
  {
   "cell_type": "markdown",
   "id": "3f2aa97a",
   "metadata": {},
   "source": [
    "<h5>Part 3a</h5>"
   ]
  },
  {
   "cell_type": "markdown",
   "id": "811bc719",
   "metadata": {},
   "source": [
    "<h5>Part 3b</h5>"
   ]
  },
  {
   "cell_type": "markdown",
   "id": "1ebccb06",
   "metadata": {},
   "source": [
    "<h5>Part 3c</h5>"
   ]
  },
  {
   "cell_type": "markdown",
   "id": "d6be533e",
   "metadata": {},
   "source": [
    "<h5>Part 3d</h5>"
   ]
  },
  {
   "cell_type": "markdown",
   "id": "884028ed",
   "metadata": {},
   "source": [
    "<h2>Part 4</h2>"
   ]
  },
  {
   "cell_type": "markdown",
   "id": "ac18efc9",
   "metadata": {},
   "source": [
    "<h5>Part 4a</h5>"
   ]
  },
  {
   "cell_type": "markdown",
   "id": "d7d0d243",
   "metadata": {},
   "source": [
    "<h5>Part 4b</h5>"
   ]
  },
  {
   "cell_type": "markdown",
   "id": "949986fa",
   "metadata": {},
   "source": [
    "<h5>Part 4c</h5>"
   ]
  },
  {
   "cell_type": "code",
   "execution_count": null,
   "id": "a75d793d",
   "metadata": {},
   "outputs": [],
   "source": []
  }
 ],
 "metadata": {
  "kernelspec": {
   "display_name": "Python 3 (ipykernel)",
   "language": "python",
   "name": "python3"
  },
  "language_info": {
   "codemirror_mode": {
    "name": "ipython",
    "version": 3
   },
   "file_extension": ".py",
   "mimetype": "text/x-python",
   "name": "python",
   "nbconvert_exporter": "python",
   "pygments_lexer": "ipython3",
   "version": "3.8.13"
  }
 },
 "nbformat": 4,
 "nbformat_minor": 5
}
